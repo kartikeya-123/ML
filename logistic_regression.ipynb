{
  "cells": [
    {
      "cell_type": "markdown",
      "metadata": {
        "id": "view-in-github",
        "colab_type": "text"
      },
      "source": [
        "<a href=\"https://colab.research.google.com/github/kartikeya-123/ML/blob/main/logistic_regression.ipynb\" target=\"_parent\"><img src=\"https://colab.research.google.com/assets/colab-badge.svg\" alt=\"Open In Colab\"/></a>"
      ]
    },
    {
      "cell_type": "markdown",
      "source": [
        "**Logistic Regression**\n"
      ],
      "metadata": {
        "id": "1mHCB55dvsRS"
      },
      "id": "1mHCB55dvsRS"
    },
    {
      "cell_type": "markdown",
      "source": [
        "Importing Libraries\n"
      ],
      "metadata": {
        "id": "h2cvPgUqy4UW"
      },
      "id": "h2cvPgUqy4UW"
    },
    {
      "cell_type": "code",
      "execution_count": null,
      "id": "df7fc248",
      "metadata": {
        "id": "df7fc248"
      },
      "outputs": [],
      "source": [
        "import numpy as np\n",
        "import pandas as pd\n",
        "import matplotlib.pyplot as plt"
      ]
    },
    {
      "cell_type": "markdown",
      "source": [
        "Reading Dataset"
      ],
      "metadata": {
        "id": "WdCjOvwDzE9h"
      },
      "id": "WdCjOvwDzE9h"
    },
    {
      "cell_type": "code",
      "source": [
        "dataset = pd.read_csv(\"/Social_Network_Ads.csv\")\n",
        "x = dataset.iloc[:,:-1].values\n",
        "y= dataset.iloc[:,-1].values"
      ],
      "metadata": {
        "id": "1rG9s_AOzl2b"
      },
      "id": "1rG9s_AOzl2b",
      "execution_count": null,
      "outputs": []
    },
    {
      "cell_type": "code",
      "source": [
        "print(x)\n",
        "print(y)"
      ],
      "metadata": {
        "id": "bxPbKaMs0Uj4"
      },
      "id": "bxPbKaMs0Uj4",
      "execution_count": null,
      "outputs": []
    },
    {
      "cell_type": "markdown",
      "source": [
        "Splitting dataset into test and training"
      ],
      "metadata": {
        "id": "3EL01hZE1plL"
      },
      "id": "3EL01hZE1plL"
    },
    {
      "cell_type": "code",
      "source": [
        "from sklearn.model_selection import train_test_split\n",
        "X_train,X_test,Y_train,Y_test = train_test_split(x,y,test_size = 0.25,random_state = 0)"
      ],
      "metadata": {
        "id": "9RsOMYCV1tCq"
      },
      "id": "9RsOMYCV1tCq",
      "execution_count": null,
      "outputs": []
    },
    {
      "cell_type": "code",
      "source": [
        "print((X_train))"
      ],
      "metadata": {
        "id": "9vj4FKzjRRV6"
      },
      "id": "9vj4FKzjRRV6",
      "execution_count": null,
      "outputs": []
    },
    {
      "cell_type": "markdown",
      "source": [
        "Feature Scaling\n"
      ],
      "metadata": {
        "id": "ZWJirvWIRY4_"
      },
      "id": "ZWJirvWIRY4_"
    },
    {
      "cell_type": "code",
      "source": [
        "from sklearn.preprocessing import StandardScaler\n",
        "sc = StandardScaler();\n",
        "X_train = sc.fit_transform(X_train)\n",
        "X_test = sc.fit_transform(X_test)"
      ],
      "metadata": {
        "id": "ua5h0v4YRYO0"
      },
      "id": "ua5h0v4YRYO0",
      "execution_count": null,
      "outputs": []
    },
    {
      "cell_type": "code",
      "source": [
        "print(X_train)"
      ],
      "metadata": {
        "id": "PtmS8wKMRwpR"
      },
      "id": "PtmS8wKMRwpR",
      "execution_count": null,
      "outputs": []
    },
    {
      "cell_type": "markdown",
      "source": [
        "Training the logistic regression model"
      ],
      "metadata": {
        "id": "v2QHu6oFSOCm"
      },
      "id": "v2QHu6oFSOCm"
    },
    {
      "cell_type": "code",
      "source": [
        "from sklearn.linear_model import LogisticRegression\n",
        "classifier = LogisticRegression();\n",
        "classifier.fit(X_train,Y_train)"
      ],
      "metadata": {
        "id": "Yj02wTo1TulR",
        "colab": {
          "base_uri": "https://localhost:8080/"
        },
        "outputId": "8da4a060-cf35-494c-9d17-d6bcb14c797e"
      },
      "id": "Yj02wTo1TulR",
      "execution_count": null,
      "outputs": [
        {
          "output_type": "execute_result",
          "data": {
            "text/plain": [
              "LogisticRegression()"
            ]
          },
          "metadata": {},
          "execution_count": 38
        }
      ]
    },
    {
      "cell_type": "markdown",
      "source": [
        "Predicting for new result"
      ],
      "metadata": {
        "id": "UiQOEa-12yYC"
      },
      "id": "UiQOEa-12yYC"
    },
    {
      "cell_type": "code",
      "source": [
        "x_in = [25,5000]\n",
        "x_scaled = sc.fit_transform([x_in])\n",
        "y_out = classifier.predict(x_scaled)"
      ],
      "metadata": {
        "id": "j1R_VgsY23kq"
      },
      "id": "j1R_VgsY23kq",
      "execution_count": null,
      "outputs": []
    },
    {
      "cell_type": "code",
      "source": [
        "print(y_out)"
      ],
      "metadata": {
        "colab": {
          "base_uri": "https://localhost:8080/"
        },
        "id": "WnUXNcbY31YG",
        "outputId": "3b9fb691-0359-4141-b02c-57b8f11129d1"
      },
      "id": "WnUXNcbY31YG",
      "execution_count": null,
      "outputs": [
        {
          "output_type": "stream",
          "name": "stdout",
          "text": [
            "[0]\n"
          ]
        }
      ]
    },
    {
      "cell_type": "markdown",
      "source": [
        "Predicting results for test set"
      ],
      "metadata": {
        "id": "4yEreNHm34jV"
      },
      "id": "4yEreNHm34jV"
    },
    {
      "cell_type": "code",
      "source": [
        "y_test_pred = classifier.predict(X_test)\n"
      ],
      "metadata": {
        "id": "O5nD3wMw36z1"
      },
      "id": "O5nD3wMw36z1",
      "execution_count": null,
      "outputs": []
    },
    {
      "cell_type": "code",
      "source": [
        "l = len(y_test_pred)\n",
        "y_test_pred_reshaped= y_test_pred.reshape(l,1)\n",
        "Y_test_reshaped = Y_test.reshape(l,1)\n",
        "\n",
        "print(np.concatenate((y_test_pred_reshaped,Y_test_reshaped),axis=1))"
      ],
      "metadata": {
        "id": "jjfi9az-4ENF"
      },
      "id": "jjfi9az-4ENF",
      "execution_count": null,
      "outputs": []
    },
    {
      "cell_type": "markdown",
      "source": [
        "Error Percentage"
      ],
      "metadata": {
        "id": "r7bo_HHs5B1u"
      },
      "id": "r7bo_HHs5B1u"
    },
    {
      "cell_type": "code",
      "source": [
        "er = 0\n",
        "for i in range(l):\n",
        "  if y_test_pred[i] != Y_test[i] :\n",
        "    er+=1\n",
        "print(\"error \",er);"
      ],
      "metadata": {
        "colab": {
          "base_uri": "https://localhost:8080/"
        },
        "id": "3qAoD7KO5EYH",
        "outputId": "c53c5662-4b97-42c6-bff4-5f0491737f39"
      },
      "id": "3qAoD7KO5EYH",
      "execution_count": null,
      "outputs": [
        {
          "output_type": "stream",
          "name": "stdout",
          "text": [
            "error  64\n"
          ]
        }
      ]
    },
    {
      "cell_type": "markdown",
      "source": [
        "Confusion Matrix"
      ],
      "metadata": {
        "id": "M47dXYY299gJ"
      },
      "id": "M47dXYY299gJ"
    },
    {
      "cell_type": "code",
      "source": [
        "from sklearn.metrics import confusion_matrix,accuracy_score\n",
        "cm  = confusion_matrix(Y_test,y_test_pred)\n",
        "print(cm)\n",
        "ac = accuracy_score(Y_test,y_test_pred)\n",
        "print(ac)"
      ],
      "metadata": {
        "colab": {
          "base_uri": "https://localhost:8080/"
        },
        "id": "jCzGrAfd-Bf8",
        "outputId": "6d7242a3-2dd1-4f1c-97e9-aae920568930"
      },
      "id": "jCzGrAfd-Bf8",
      "execution_count": null,
      "outputs": [
        {
          "output_type": "stream",
          "name": "stdout",
          "text": [
            "[[63  5]\n",
            " [ 8 24]]\n",
            "0.87\n"
          ]
        }
      ]
    }
  ],
  "metadata": {
    "kernelspec": {
      "display_name": "Python 3",
      "language": "python",
      "name": "python3"
    },
    "language_info": {
      "codemirror_mode": {
        "name": "ipython",
        "version": 3
      },
      "file_extension": ".py",
      "mimetype": "text/x-python",
      "name": "python",
      "nbconvert_exporter": "python",
      "pygments_lexer": "ipython3",
      "version": "3.8.8"
    },
    "colab": {
      "name": "logistic_regression.ipynb",
      "provenance": [],
      "collapsed_sections": [],
      "include_colab_link": true
    }
  },
  "nbformat": 4,
  "nbformat_minor": 5
}